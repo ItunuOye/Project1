{
 "cells": [
  {
   "cell_type": "code",
   "execution_count": null,
   "metadata": {},
   "outputs": [],
   "source": [
    "%matplotlib notebook\n",
    "import pandas as pd\n",
    "import numpy as np\n",
    "from scipy import stats\n",
    "import matplotlib.pyplot as plt\n",
    "import numpy as np\n",
    "import seaborn as sns\n",
    "import warnings\n",
    "warnings.filterwarnings('ignore')\n",
    "\n",
    "grad_data = pd.read_csv(\"Admission_Predict_Ver1.1.csv\")\n",
    "grad_data = grad_data.rename(columns={\"University Rating\": \"university_rating\", \n",
    "                                      \"Chance of Admit \":\"chance_of_admit\", \n",
    "                                      \"Serial No.\":\"serial_no\",\n",
    "                                     \"GRE Score\":\"gre_score\",\n",
    "                                     \"TOEFL Score\":\"toefl_score\",\n",
    "                                     \"LOR \":\"lor\",\n",
    "                                     \"SOP\":\"sop\",\n",
    "                                     \"Research\":\"research\",\n",
    "                                      \"CGPA\":\"cgpa\"})\n",
    "                                \n",
    "grad_data.head()"
   ]
  },
  {
   "cell_type": "code",
   "execution_count": null,
   "metadata": {},
   "outputs": [],
   "source": [
    "grad_data = grad_data.drop(columns=[\"serial_no\"])\n"
   ]
  },
  {
   "cell_type": "code",
   "execution_count": null,
   "metadata": {},
   "outputs": [],
   "source": [
    "grad_data.info()"
   ]
  },
  {
   "cell_type": "code",
   "execution_count": null,
   "metadata": {},
   "outputs": [],
   "source": [
    "#Identify how features are correlated to each other\n",
    "grad_data.corr()\n",
    "# Plotting heatmap\n",
    "sns.heatmap(grad_data.corr(), annot=True, cmap='Greens')\n",
    "plt.savefig(\"grad_data_Corr_matrix.png\")"
   ]
  },
  {
   "cell_type": "code",
   "execution_count": null,
   "metadata": {},
   "outputs": [],
   "source": [
    "grad_data.plot(kind=\"scatter\",x=\"lor\",y=\"chance_of_admit\" )\n",
    "plt.xlabel(\"Letter of Recommendation Quality\")\n",
    "plt.ylabel(\"Chance of Admission\")\n",
    "plt.title(\"LOR Effect on Chance of Admission\")\n",
    "plt.savefig(\"LOR Effect on Chance of Admission\")"
   ]
  },
  {
   "cell_type": "code",
   "execution_count": null,
   "metadata": {},
   "outputs": [],
   "source": [
    "sns.lmplot(x=\"lor\",y=\"chance_of_admit\",fit_reg=False,data=grad_data,hue=\"university_rating\")\n",
    "plt.xlabel(\"Letter of Recommendation Quality\")\n",
    "plt.ylabel(\"Chance of Admission\")\n",
    "plt.title(\"LOR Effect on Chance of Admission and U Rating\")\n",
    "plt.savefig(\"LOR Effect on Chance of Admission and U Rating.png\")"
   ]
  },
  {
   "cell_type": "code",
   "execution_count": null,
   "metadata": {},
   "outputs": [],
   "source": [
    "sns.lmplot(x=\"lor\",y=\"chance_of_admit\",fit_reg=False,data=grad_data,hue=\"research\")\n",
    "plt.xlabel(\"Letter of Recommendation Quality\")\n",
    "plt.ylabel(\"Chance of Admission\")\n",
    "plt.title(\"LOR Effect on Chance of Admission and Research\")\n",
    "plt.savefig(\"LOR Effect on Chance of Admission and Research.png\")"
   ]
  },
  {
   "cell_type": "code",
   "execution_count": null,
   "metadata": {},
   "outputs": [],
   "source": [
    "grad_data.plot(kind=\"scatter\",x=\"gre_score\",y=\"chance_of_admit\" )\n",
    "plt.xlabel(\"GRE Score\")\n",
    "plt.ylabel(\"Chance of Admission\")\n",
    "plt.title(\"GRE Effect on Chance of Admission\")\n",
    "plt.savefig(\"GRE Effect on Chance of Admission.png\")"
   ]
  },
  {
   "cell_type": "code",
   "execution_count": null,
   "metadata": {},
   "outputs": [],
   "source": [
    "sns.lmplot(x=\"gre_score\",y=\"chance_of_admit\",fit_reg=False,data=grad_data,hue=\"university_rating\")\n",
    "plt.xlabel(\"GRE Score\")\n",
    "plt.ylabel(\"Chance of Admission\")\n",
    "plt.title(\"GRE Effect on Chance of Admission and U Rating\")\n",
    "plt.savefig(\"GRE Effect on Chance of Admission and U Rating.png\")"
   ]
  },
  {
   "cell_type": "code",
   "execution_count": null,
   "metadata": {},
   "outputs": [],
   "source": [
    "sns.lmplot(x=\"gre_score\",y=\"chance_of_admit\",fit_reg=False,data=grad_data,hue=\"research\")\n",
    "plt.xlabel(\"GRE Score\")\n",
    "plt.ylabel(\"Chance of Admission\")\n",
    "plt.title(\"GRE Effect on Chance of Admission and Research\")\n",
    "plt.savefig(\"GRE Effect on Chance of Admission and Research.png\")"
   ]
  },
  {
   "cell_type": "code",
   "execution_count": null,
   "metadata": {},
   "outputs": [],
   "source": [
    "grad_data.plot(kind=\"scatter\",x=\"toefl_score\",y=\"chance_of_admit\" )\n",
    "plt.xlabel(\"TOEFL Score\")\n",
    "plt.ylabel(\"Chance of Admission\")\n",
    "plt.title(\"TOEFL Effect on Chance of Admission\")\n",
    "plt.savefig(\"TOEFL Effect on Chance of Admission.png\")"
   ]
  },
  {
   "cell_type": "code",
   "execution_count": null,
   "metadata": {},
   "outputs": [],
   "source": [
    "sns.lmplot(x=\"toefl_score\",y=\"chance_of_admit\",fit_reg=False,data=grad_data,hue=\"university_rating\")\n",
    "plt.xlabel(\"TOEFL Score\")\n",
    "plt.ylabel(\"Chance of Admission\")\n",
    "plt.title(\"TOEFL Effect on Chance of Admission and U Rating\")\n",
    "plt.savefig(\"TOEFL Effect on Chance of Admission and U Rating.png\")"
   ]
  },
  {
   "cell_type": "code",
   "execution_count": null,
   "metadata": {},
   "outputs": [],
   "source": [
    "sns.lmplot(x=\"toefl_score\",y=\"chance_of_admit\",fit_reg=False,data=grad_data,hue=\"research\")\n",
    "plt.xlabel(\"TOEFL Score\")\n",
    "plt.ylabel(\"Chance of Admission\")\n",
    "plt.title(\"TOEFL Effect on Chance of Admission and Research\")\n",
    "plt.savefig(\"TOEFL Effect on Chance of Admission and Research.png\")"
   ]
  },
  {
   "cell_type": "code",
   "execution_count": null,
   "metadata": {},
   "outputs": [],
   "source": [
    "grad_data.plot(kind=\"scatter\",x=\"cgpa\",y=\"chance_of_admit\" )\n",
    "plt.xlabel(\"CGPA\")\n",
    "plt.ylabel(\"Chance of Admission\")\n",
    "plt.title(\"CGPA Effect on Chance of Admission\")\n",
    "plt.savefig(\"CGPA Effect on Chance of Admission.png\")"
   ]
  },
  {
   "cell_type": "code",
   "execution_count": null,
   "metadata": {},
   "outputs": [],
   "source": [
    "sns.lmplot(x=\"cgpa\",y=\"chance_of_admit\",fit_reg=False,data=grad_data,hue=\"university_rating\")\n",
    "plt.xlabel(\"CGPA\")\n",
    "plt.ylabel(\"Chance of Admission\")\n",
    "plt.title(\"CGPA Effect on Chance of Admission and U Rating\")\n",
    "plt.savefig(\"CCGPA Effect on Chance of Admission and U Rating.png\")"
   ]
  },
  {
   "cell_type": "code",
   "execution_count": null,
   "metadata": {},
   "outputs": [],
   "source": [
    "sns.lmplot(x=\"cgpa\",y=\"chance_of_admit\",fit_reg=False,data=grad_data,hue=\"research\")\n",
    "plt.xlabel(\"CGPA Score\")\n",
    "plt.ylabel(\"Chance of Admission\")\n",
    "plt.title(\"CGPA Effect on Chance of Admission and Research\")\n",
    "plt.savefig(\"CGPA Effect on Chance of Admission and Research.png\")"
   ]
  },
  {
   "cell_type": "code",
   "execution_count": null,
   "metadata": {},
   "outputs": [],
   "source": [
    "grad_data.plot(kind=\"scatter\",x=\"sop\",y=\"chance_of_admit\" )\n",
    "plt.xlabel(\"SOP\")\n",
    "plt.ylabel(\"Chance of Admission\")\n",
    "plt.title(\"SOP Effect on Chance of Admission\")\n",
    "plt.savefig(\"SOP Effect on Chance of Admission.png\")"
   ]
  },
  {
   "cell_type": "code",
   "execution_count": null,
   "metadata": {},
   "outputs": [],
   "source": [
    "sns.lmplot(x=\"sop\",y=\"chance_of_admit\",fit_reg=False,data=grad_data,hue=\"university_rating\")\n",
    "plt.xlabel(\"SOP Quality\")\n",
    "plt.ylabel(\"Chance of Admission\")\n",
    "plt.title(\"SOP Effect on Chance of Admission and U Rating\")\n",
    "plt.savefig(\"SOP Effect on Chance of Admission and U Rating.png\")"
   ]
  },
  {
   "cell_type": "code",
   "execution_count": null,
   "metadata": {},
   "outputs": [],
   "source": [
    "sns.lmplot(x=\"sop\",y=\"chance_of_admit\",fit_reg=False,data=grad_data,hue=\"research\")\n",
    "plt.xlabel(\"SOP Quality\")\n",
    "plt.ylabel(\"Chance of Admission\")\n",
    "plt.title(\"SOP Effect on Chance of Admission and Research\")\n",
    "plt.savefig(\"SOP Effect on Chance of Admission and Research.png\")"
   ]
  },
  {
   "cell_type": "code",
   "execution_count": null,
   "metadata": {},
   "outputs": [],
   "source": [
    "grad_data.head()"
   ]
  },
  {
   "cell_type": "code",
   "execution_count": null,
   "metadata": {},
   "outputs": [],
   "source": [
    "grad_data_ratings = grad_data[[\"university_rating\",\"chance_of_admit\"]]\n",
    "grad_data_ratings"
   ]
  },
  {
   "cell_type": "code",
   "execution_count": null,
   "metadata": {},
   "outputs": [],
   "source": [
    "grad_data_ratings.boxplot(\"chance_of_admit\", by=\"university_rating\", figsize=(10, 5))"
   ]
  },
  {
   "cell_type": "code",
   "execution_count": null,
   "metadata": {},
   "outputs": [],
   "source": [
    "rating1 = grad_data_ratings[grad_data_ratings[\"university_rating\"] == 1][\"chance_of_admit\"]\n",
    "rating2 = grad_data_ratings[grad_data_ratings[\"university_rating\"] == 2][\"chance_of_admit\"]\n",
    "rating3 = grad_data_ratings[grad_data_ratings[\"university_rating\"] == 3][\"chance_of_admit\"]\n",
    "rating4 = grad_data_ratings[grad_data_ratings[\"university_rating\"] == 4][\"chance_of_admit\"]\n",
    "rating5 = grad_data_ratings[grad_data_ratings[\"university_rating\"] == 5][\"chance_of_admit\"]"
   ]
  },
  {
   "cell_type": "code",
   "execution_count": null,
   "metadata": {},
   "outputs": [],
   "source": [
    "stats.f_oneway(rating1, rating2, rating3, rating4, rating5)"
   ]
  },
  {
   "cell_type": "markdown",
   "metadata": {},
   "source": [
    "The P-value is 7.75 so we will reject null hypothesis.  This means that the difference in admission between rating groups differs significantly from the difference in admission between members within in each rating group."
   ]
  },
  {
   "cell_type": "code",
   "execution_count": null,
   "metadata": {},
   "outputs": [],
   "source": [
    "grad_data_research = grad_data[[\"research\",\"chance_of_admit\"]]\n",
    "grad_data_research.head()"
   ]
  },
  {
   "cell_type": "code",
   "execution_count": null,
   "metadata": {},
   "outputs": [],
   "source": [
    "grad_data_research.boxplot(\"chance_of_admit\", by=\"research\", figsize=(10, 5))"
   ]
  },
  {
   "cell_type": "code",
   "execution_count": null,
   "metadata": {},
   "outputs": [],
   "source": [
    "research1 = grad_data_research[grad_data_research[\"research\"] == 1][\"chance_of_admit\"]\n",
    "research0 = grad_data_research[grad_data_research[\"research\"] == 0][\"chance_of_admit\"]"
   ]
  },
  {
   "cell_type": "code",
   "execution_count": null,
   "metadata": {},
   "outputs": [],
   "source": [
    "stats.f_oneway(research1, research0)"
   ]
  },
  {
   "cell_type": "code",
   "execution_count": null,
   "metadata": {},
   "outputs": [],
   "source": []
  }
 ],
 "metadata": {
  "kernelspec": {
   "display_name": "Python 3",
   "language": "python",
   "name": "python3"
  },
  "language_info": {
   "codemirror_mode": {
    "name": "ipython",
    "version": 3
   },
   "file_extension": ".py",
   "mimetype": "text/x-python",
   "name": "python",
   "nbconvert_exporter": "python",
   "pygments_lexer": "ipython3",
   "version": "3.6.7"
  }
 },
 "nbformat": 4,
 "nbformat_minor": 2
}
